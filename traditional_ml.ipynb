{
  "cells": [
    {
      "cell_type": "markdown",
      "metadata": {
        "id": "view-in-github",
        "colab_type": "text"
      },
      "source": [
        "<a href=\"https://colab.research.google.com/github/laila444/Assignemt1ANLP/blob/main/traditional_ml.ipynb\" target=\"_parent\"><img src=\"https://colab.research.google.com/assets/colab-badge.svg\" alt=\"Open In Colab\"/></a>"
      ]
    },
    {
      "cell_type": "markdown",
      "metadata": {
        "id": "kOLas7Bw_0nF"
      },
      "source": [
        "# Emotion Classification in Texts using Scikit-learn \n",
        "\n",
        "Classifying short messages into five emotion categories. We will prepare our dataset (nltk and regular expressions) and vectorize words using TF-IDF (term frequency-inverse document frequency) metric. Later we will use classifiers provided by scikit-learn and classify sentences into five emotion categories: joy, sadness, anger, fear, and neutral.\n",
        "\n",
        "### Workflow \n",
        "* Importing Dataset\n",
        "* Text Preprocessing\n",
        "* Text Representation\n",
        "* Classifiers: Naive Bayes, Linear Regression, Random Rorrrest, SVM\n",
        "* Evaluation: F1 scores and Confussion Matrix\n",
        "* Saving the Model\n"
      ]
    },
    {
      "cell_type": "code",
      "execution_count": 1,
      "metadata": {
        "id": "zdVKfBR7_0nI"
      },
      "outputs": [],
      "source": [
        "import pandas as pd\n",
        "import numpy as np\n",
        "\n",
        "# text preprocessing\n",
        "from nltk import word_tokenize\n",
        "from nltk.stem import PorterStemmer\n",
        "from nltk.corpus import stopwords\n",
        "import re\n",
        "\n",
        "# plots and metrics\n",
        "import matplotlib.pyplot as plt\n",
        "from sklearn.metrics import accuracy_score, f1_score, confusion_matrix\n",
        "\n",
        "# feature extraction / vectorization\n",
        "from sklearn.feature_extraction.text import CountVectorizer, TfidfVectorizer\n",
        "\n",
        "# classifiers\n",
        "from sklearn.naive_bayes import MultinomialNB\n",
        "from sklearn.linear_model import LogisticRegression, SGDClassifier\n",
        "from sklearn.ensemble import RandomForestClassifier\n",
        "from sklearn.svm import LinearSVC\n",
        "from sklearn.pipeline import Pipeline\n",
        "\n",
        "# save and load a file\n",
        "import pickle"
      ]
    },
    {
      "cell_type": "markdown",
      "metadata": {
        "id": "9yA8AT6z_0nJ"
      },
      "source": [
        "## 1. Import Dataset\n",
        "\n",
        "Text-Emotion Dataset was split into training 70% and testing 30%\n"
      ]
    },
    {
      "cell_type": "code",
      "source": [
        "from google.colab import files\n",
        "\n",
        "uploaded = files.upload()"
      ],
      "metadata": {
        "colab": {
          "base_uri": "https://localhost:8080/",
          "height": 108
        },
        "id": "gTwzjtPpAC4h",
        "outputId": "9185edfa-4a89-4d45-e9ee-7186d76629e0"
      },
      "execution_count": 3,
      "outputs": [
        {
          "output_type": "display_data",
          "data": {
            "text/plain": [
              "<IPython.core.display.HTML object>"
            ],
            "text/html": [
              "\n",
              "     <input type=\"file\" id=\"files-a43054a6-d126-4080-8a91-d5e530c6703f\" name=\"files[]\" multiple disabled\n",
              "        style=\"border:none\" />\n",
              "     <output id=\"result-a43054a6-d126-4080-8a91-d5e530c6703f\">\n",
              "      Upload widget is only available when the cell has been executed in the\n",
              "      current browser session. Please rerun this cell to enable.\n",
              "      </output>\n",
              "      <script>// Copyright 2017 Google LLC\n",
              "//\n",
              "// Licensed under the Apache License, Version 2.0 (the \"License\");\n",
              "// you may not use this file except in compliance with the License.\n",
              "// You may obtain a copy of the License at\n",
              "//\n",
              "//      http://www.apache.org/licenses/LICENSE-2.0\n",
              "//\n",
              "// Unless required by applicable law or agreed to in writing, software\n",
              "// distributed under the License is distributed on an \"AS IS\" BASIS,\n",
              "// WITHOUT WARRANTIES OR CONDITIONS OF ANY KIND, either express or implied.\n",
              "// See the License for the specific language governing permissions and\n",
              "// limitations under the License.\n",
              "\n",
              "/**\n",
              " * @fileoverview Helpers for google.colab Python module.\n",
              " */\n",
              "(function(scope) {\n",
              "function span(text, styleAttributes = {}) {\n",
              "  const element = document.createElement('span');\n",
              "  element.textContent = text;\n",
              "  for (const key of Object.keys(styleAttributes)) {\n",
              "    element.style[key] = styleAttributes[key];\n",
              "  }\n",
              "  return element;\n",
              "}\n",
              "\n",
              "// Max number of bytes which will be uploaded at a time.\n",
              "const MAX_PAYLOAD_SIZE = 100 * 1024;\n",
              "\n",
              "function _uploadFiles(inputId, outputId) {\n",
              "  const steps = uploadFilesStep(inputId, outputId);\n",
              "  const outputElement = document.getElementById(outputId);\n",
              "  // Cache steps on the outputElement to make it available for the next call\n",
              "  // to uploadFilesContinue from Python.\n",
              "  outputElement.steps = steps;\n",
              "\n",
              "  return _uploadFilesContinue(outputId);\n",
              "}\n",
              "\n",
              "// This is roughly an async generator (not supported in the browser yet),\n",
              "// where there are multiple asynchronous steps and the Python side is going\n",
              "// to poll for completion of each step.\n",
              "// This uses a Promise to block the python side on completion of each step,\n",
              "// then passes the result of the previous step as the input to the next step.\n",
              "function _uploadFilesContinue(outputId) {\n",
              "  const outputElement = document.getElementById(outputId);\n",
              "  const steps = outputElement.steps;\n",
              "\n",
              "  const next = steps.next(outputElement.lastPromiseValue);\n",
              "  return Promise.resolve(next.value.promise).then((value) => {\n",
              "    // Cache the last promise value to make it available to the next\n",
              "    // step of the generator.\n",
              "    outputElement.lastPromiseValue = value;\n",
              "    return next.value.response;\n",
              "  });\n",
              "}\n",
              "\n",
              "/**\n",
              " * Generator function which is called between each async step of the upload\n",
              " * process.\n",
              " * @param {string} inputId Element ID of the input file picker element.\n",
              " * @param {string} outputId Element ID of the output display.\n",
              " * @return {!Iterable<!Object>} Iterable of next steps.\n",
              " */\n",
              "function* uploadFilesStep(inputId, outputId) {\n",
              "  const inputElement = document.getElementById(inputId);\n",
              "  inputElement.disabled = false;\n",
              "\n",
              "  const outputElement = document.getElementById(outputId);\n",
              "  outputElement.innerHTML = '';\n",
              "\n",
              "  const pickedPromise = new Promise((resolve) => {\n",
              "    inputElement.addEventListener('change', (e) => {\n",
              "      resolve(e.target.files);\n",
              "    });\n",
              "  });\n",
              "\n",
              "  const cancel = document.createElement('button');\n",
              "  inputElement.parentElement.appendChild(cancel);\n",
              "  cancel.textContent = 'Cancel upload';\n",
              "  const cancelPromise = new Promise((resolve) => {\n",
              "    cancel.onclick = () => {\n",
              "      resolve(null);\n",
              "    };\n",
              "  });\n",
              "\n",
              "  // Wait for the user to pick the files.\n",
              "  const files = yield {\n",
              "    promise: Promise.race([pickedPromise, cancelPromise]),\n",
              "    response: {\n",
              "      action: 'starting',\n",
              "    }\n",
              "  };\n",
              "\n",
              "  cancel.remove();\n",
              "\n",
              "  // Disable the input element since further picks are not allowed.\n",
              "  inputElement.disabled = true;\n",
              "\n",
              "  if (!files) {\n",
              "    return {\n",
              "      response: {\n",
              "        action: 'complete',\n",
              "      }\n",
              "    };\n",
              "  }\n",
              "\n",
              "  for (const file of files) {\n",
              "    const li = document.createElement('li');\n",
              "    li.append(span(file.name, {fontWeight: 'bold'}));\n",
              "    li.append(span(\n",
              "        `(${file.type || 'n/a'}) - ${file.size} bytes, ` +\n",
              "        `last modified: ${\n",
              "            file.lastModifiedDate ? file.lastModifiedDate.toLocaleDateString() :\n",
              "                                    'n/a'} - `));\n",
              "    const percent = span('0% done');\n",
              "    li.appendChild(percent);\n",
              "\n",
              "    outputElement.appendChild(li);\n",
              "\n",
              "    const fileDataPromise = new Promise((resolve) => {\n",
              "      const reader = new FileReader();\n",
              "      reader.onload = (e) => {\n",
              "        resolve(e.target.result);\n",
              "      };\n",
              "      reader.readAsArrayBuffer(file);\n",
              "    });\n",
              "    // Wait for the data to be ready.\n",
              "    let fileData = yield {\n",
              "      promise: fileDataPromise,\n",
              "      response: {\n",
              "        action: 'continue',\n",
              "      }\n",
              "    };\n",
              "\n",
              "    // Use a chunked sending to avoid message size limits. See b/62115660.\n",
              "    let position = 0;\n",
              "    do {\n",
              "      const length = Math.min(fileData.byteLength - position, MAX_PAYLOAD_SIZE);\n",
              "      const chunk = new Uint8Array(fileData, position, length);\n",
              "      position += length;\n",
              "\n",
              "      const base64 = btoa(String.fromCharCode.apply(null, chunk));\n",
              "      yield {\n",
              "        response: {\n",
              "          action: 'append',\n",
              "          file: file.name,\n",
              "          data: base64,\n",
              "        },\n",
              "      };\n",
              "\n",
              "      let percentDone = fileData.byteLength === 0 ?\n",
              "          100 :\n",
              "          Math.round((position / fileData.byteLength) * 100);\n",
              "      percent.textContent = `${percentDone}% done`;\n",
              "\n",
              "    } while (position < fileData.byteLength);\n",
              "  }\n",
              "\n",
              "  // All done.\n",
              "  yield {\n",
              "    response: {\n",
              "      action: 'complete',\n",
              "    }\n",
              "  };\n",
              "}\n",
              "\n",
              "scope.google = scope.google || {};\n",
              "scope.google.colab = scope.google.colab || {};\n",
              "scope.google.colab._files = {\n",
              "  _uploadFiles,\n",
              "  _uploadFilesContinue,\n",
              "};\n",
              "})(self);\n",
              "</script> "
            ]
          },
          "metadata": {}
        },
        {
          "output_type": "stream",
          "name": "stdout",
          "text": [
            "Saving data_test.csv to data_test.csv\n",
            "Saving data_train.csv to data_train.csv\n"
          ]
        }
      ]
    },
    {
      "cell_type": "code",
      "execution_count": 4,
      "metadata": {
        "colab": {
          "base_uri": "https://localhost:8080/",
          "height": 345
        },
        "id": "u4zoE1Zz_0nJ",
        "outputId": "9f8588b4-d487-44a7-9335-95f171f82cef"
      },
      "outputs": [
        {
          "output_type": "stream",
          "name": "stdout",
          "text": [
            "size of training set: 7934\n",
            "size of validation set: 3393\n",
            "joy        2326\n",
            "sadness    2317\n",
            "anger      2259\n",
            "neutral    2254\n",
            "fear       2171\n",
            "Name: Emotion, dtype: int64\n"
          ]
        },
        {
          "output_type": "execute_result",
          "data": {
            "text/plain": [
              "   Emotion                                               Text\n",
              "0  neutral   There are tons of other paintings that I thin...\n",
              "1  sadness  Yet the dog had grown old and less capable , a...\n",
              "2     fear  When I get into the tube or the train without ...\n",
              "3     fear  This last may be a source of considerable disq...\n",
              "4    anger  She disliked the intimacy he showed towards so..."
            ],
            "text/html": [
              "\n",
              "  <div id=\"df-869384ba-2eb5-487a-8b92-91437950aee6\">\n",
              "    <div class=\"colab-df-container\">\n",
              "      <div>\n",
              "<style scoped>\n",
              "    .dataframe tbody tr th:only-of-type {\n",
              "        vertical-align: middle;\n",
              "    }\n",
              "\n",
              "    .dataframe tbody tr th {\n",
              "        vertical-align: top;\n",
              "    }\n",
              "\n",
              "    .dataframe thead th {\n",
              "        text-align: right;\n",
              "    }\n",
              "</style>\n",
              "<table border=\"1\" class=\"dataframe\">\n",
              "  <thead>\n",
              "    <tr style=\"text-align: right;\">\n",
              "      <th></th>\n",
              "      <th>Emotion</th>\n",
              "      <th>Text</th>\n",
              "    </tr>\n",
              "  </thead>\n",
              "  <tbody>\n",
              "    <tr>\n",
              "      <th>0</th>\n",
              "      <td>neutral</td>\n",
              "      <td>There are tons of other paintings that I thin...</td>\n",
              "    </tr>\n",
              "    <tr>\n",
              "      <th>1</th>\n",
              "      <td>sadness</td>\n",
              "      <td>Yet the dog had grown old and less capable , a...</td>\n",
              "    </tr>\n",
              "    <tr>\n",
              "      <th>2</th>\n",
              "      <td>fear</td>\n",
              "      <td>When I get into the tube or the train without ...</td>\n",
              "    </tr>\n",
              "    <tr>\n",
              "      <th>3</th>\n",
              "      <td>fear</td>\n",
              "      <td>This last may be a source of considerable disq...</td>\n",
              "    </tr>\n",
              "    <tr>\n",
              "      <th>4</th>\n",
              "      <td>anger</td>\n",
              "      <td>She disliked the intimacy he showed towards so...</td>\n",
              "    </tr>\n",
              "  </tbody>\n",
              "</table>\n",
              "</div>\n",
              "      <button class=\"colab-df-convert\" onclick=\"convertToInteractive('df-869384ba-2eb5-487a-8b92-91437950aee6')\"\n",
              "              title=\"Convert this dataframe to an interactive table.\"\n",
              "              style=\"display:none;\">\n",
              "        \n",
              "  <svg xmlns=\"http://www.w3.org/2000/svg\" height=\"24px\"viewBox=\"0 0 24 24\"\n",
              "       width=\"24px\">\n",
              "    <path d=\"M0 0h24v24H0V0z\" fill=\"none\"/>\n",
              "    <path d=\"M18.56 5.44l.94 2.06.94-2.06 2.06-.94-2.06-.94-.94-2.06-.94 2.06-2.06.94zm-11 1L8.5 8.5l.94-2.06 2.06-.94-2.06-.94L8.5 2.5l-.94 2.06-2.06.94zm10 10l.94 2.06.94-2.06 2.06-.94-2.06-.94-.94-2.06-.94 2.06-2.06.94z\"/><path d=\"M17.41 7.96l-1.37-1.37c-.4-.4-.92-.59-1.43-.59-.52 0-1.04.2-1.43.59L10.3 9.45l-7.72 7.72c-.78.78-.78 2.05 0 2.83L4 21.41c.39.39.9.59 1.41.59.51 0 1.02-.2 1.41-.59l7.78-7.78 2.81-2.81c.8-.78.8-2.07 0-2.86zM5.41 20L4 18.59l7.72-7.72 1.47 1.35L5.41 20z\"/>\n",
              "  </svg>\n",
              "      </button>\n",
              "      \n",
              "  <style>\n",
              "    .colab-df-container {\n",
              "      display:flex;\n",
              "      flex-wrap:wrap;\n",
              "      gap: 12px;\n",
              "    }\n",
              "\n",
              "    .colab-df-convert {\n",
              "      background-color: #E8F0FE;\n",
              "      border: none;\n",
              "      border-radius: 50%;\n",
              "      cursor: pointer;\n",
              "      display: none;\n",
              "      fill: #1967D2;\n",
              "      height: 32px;\n",
              "      padding: 0 0 0 0;\n",
              "      width: 32px;\n",
              "    }\n",
              "\n",
              "    .colab-df-convert:hover {\n",
              "      background-color: #E2EBFA;\n",
              "      box-shadow: 0px 1px 2px rgba(60, 64, 67, 0.3), 0px 1px 3px 1px rgba(60, 64, 67, 0.15);\n",
              "      fill: #174EA6;\n",
              "    }\n",
              "\n",
              "    [theme=dark] .colab-df-convert {\n",
              "      background-color: #3B4455;\n",
              "      fill: #D2E3FC;\n",
              "    }\n",
              "\n",
              "    [theme=dark] .colab-df-convert:hover {\n",
              "      background-color: #434B5C;\n",
              "      box-shadow: 0px 1px 3px 1px rgba(0, 0, 0, 0.15);\n",
              "      filter: drop-shadow(0px 1px 2px rgba(0, 0, 0, 0.3));\n",
              "      fill: #FFFFFF;\n",
              "    }\n",
              "  </style>\n",
              "\n",
              "      <script>\n",
              "        const buttonEl =\n",
              "          document.querySelector('#df-869384ba-2eb5-487a-8b92-91437950aee6 button.colab-df-convert');\n",
              "        buttonEl.style.display =\n",
              "          google.colab.kernel.accessAllowed ? 'block' : 'none';\n",
              "\n",
              "        async function convertToInteractive(key) {\n",
              "          const element = document.querySelector('#df-869384ba-2eb5-487a-8b92-91437950aee6');\n",
              "          const dataTable =\n",
              "            await google.colab.kernel.invokeFunction('convertToInteractive',\n",
              "                                                     [key], {});\n",
              "          if (!dataTable) return;\n",
              "\n",
              "          const docLinkHtml = 'Like what you see? Visit the ' +\n",
              "            '<a target=\"_blank\" href=https://colab.research.google.com/notebooks/data_table.ipynb>data table notebook</a>'\n",
              "            + ' to learn more about interactive tables.';\n",
              "          element.innerHTML = '';\n",
              "          dataTable['output_type'] = 'display_data';\n",
              "          await google.colab.output.renderOutput(dataTable, element);\n",
              "          const docLink = document.createElement('div');\n",
              "          docLink.innerHTML = docLinkHtml;\n",
              "          element.appendChild(docLink);\n",
              "        }\n",
              "      </script>\n",
              "    </div>\n",
              "  </div>\n",
              "  "
            ]
          },
          "metadata": {},
          "execution_count": 4
        }
      ],
      "source": [
        "df_train = pd.read_csv('/content/data_train.csv')\n",
        "df_test = pd.read_csv('/content/data_test.csv')\n",
        "\n",
        "X_train = df_train.Text\n",
        "X_test = df_test.Text\n",
        "\n",
        "y_train = df_train.Emotion\n",
        "y_test = df_test.Emotion\n",
        "\n",
        "class_names = ['joy', 'sadness', 'anger', 'neutral', 'fear']\n",
        "data = pd.concat([df_train, df_test])\n",
        "\n",
        "print('size of training set: %s' % (len(df_train['Text'])))\n",
        "print('size of validation set: %s' % (len(df_test['Text'])))\n",
        "print(data.Emotion.value_counts())\n",
        "\n",
        "data.head()"
      ]
    },
    {
      "cell_type": "markdown",
      "metadata": {
        "id": "JZtH5-k1_0nK"
      },
      "source": [
        "### *Plotting confusion matrix for later evaluation "
      ]
    },
    {
      "cell_type": "code",
      "execution_count": 5,
      "metadata": {
        "id": "qnLLZTs0_0nK"
      },
      "outputs": [],
      "source": [
        "def plot_confusion_matrix(y_true, y_pred, classes,\n",
        "                          normalize=False,\n",
        "                          title=None,\n",
        "                          cmap=plt.cm.Blues):\n",
        "    '''\n",
        "    This function prints and plots the confusion matrix.\n",
        "    Normalization can be applied by setting `normalize=True`.\n",
        "    '''\n",
        "    if not title:\n",
        "        if normalize:\n",
        "            title = 'Normalized confusion matrix'\n",
        "        else:\n",
        "            title = 'Confusion matrix, without normalization'\n",
        "\n",
        "    # Compute confusion matrix\n",
        "    cm = confusion_matrix(y_true, y_pred)\n",
        "\n",
        "    if normalize:\n",
        "        cm = cm.astype('float') / cm.sum(axis=1)[:, np.newaxis]\n",
        "\n",
        "    fig, ax = plt.subplots()\n",
        "    \n",
        "    # Set size\n",
        "    fig.set_size_inches(12.5, 7.5)\n",
        "    im = ax.imshow(cm, interpolation='nearest', cmap=cmap)\n",
        "    ax.figure.colorbar(im, ax=ax)\n",
        "    ax.grid(False)\n",
        "    \n",
        "    # We want to show all ticks...\n",
        "    ax.set(xticks=np.arange(cm.shape[1]),\n",
        "           yticks=np.arange(cm.shape[0]),\n",
        "           # ... and label them with the respective list entries\n",
        "           xticklabels=classes, yticklabels=classes,\n",
        "           title=title,\n",
        "           ylabel='True label',\n",
        "           xlabel='Predicted label')\n",
        "\n",
        "    # Rotate the tick labels and set their alignment.\n",
        "    plt.setp(ax.get_xticklabels(), rotation=45, ha=\"right\",\n",
        "             rotation_mode=\"anchor\")\n",
        "\n",
        "    # Loop over data dimensions and create text annotations.\n",
        "    fmt = '.2f' if normalize else 'd'\n",
        "    thresh = cm.max() / 2.\n",
        "    for i in range(cm.shape[0]):\n",
        "        for j in range(cm.shape[1]):\n",
        "            ax.text(j, i, format(cm[i, j], fmt),\n",
        "                    ha=\"center\", va=\"center\",\n",
        "                    color=\"white\" if cm[i, j] > thresh else \"black\")\n",
        "    fig.tight_layout()\n",
        "    return ax"
      ]
    },
    {
      "cell_type": "markdown",
      "metadata": {
        "id": "9nDPWbMJ_0nL"
      },
      "source": [
        "## 2. Text Preprocessing\n",
        "\n",
        "Here are some preprocessing steps to consider:\n",
        "* Removing noise: html markups, urls, non-ascii symbols, trailing whitespace etc.\n",
        "* Removing punctuation\n",
        "* Normalizing emoticons\n",
        "* Negation handling\n",
        "* Tokenization: split text into word tokens\n",
        "* Stopword removal\n",
        "* Stemming or lemmatization\n",
        "\n",
        "However, most of these steps did not improve our classification results. Since our data was mostly taken from written dialogs it was almost ready to use."
      ]
    },
    {
      "cell_type": "code",
      "execution_count": 6,
      "metadata": {
        "id": "e5OLYzCz_0nL"
      },
      "outputs": [],
      "source": [
        "def preprocess_and_tokenize(data):    \n",
        "\n",
        "    #remove html markup\n",
        "    data = re.sub(\"(<.*?>)\", \"\", data)\n",
        "\n",
        "    #remove urls\n",
        "    data = re.sub(r'http\\S+', '', data)\n",
        "    \n",
        "    #remove hashtags and @names\n",
        "    data= re.sub(r\"(#[\\d\\w\\.]+)\", '', data)\n",
        "    data= re.sub(r\"(@[\\d\\w\\.]+)\", '', data)\n",
        "\n",
        "    #remove punctuation and non-ascii digits\n",
        "    data = re.sub(\"(\\\\W|\\\\d)\", \" \", data)\n",
        "    \n",
        "    #remove whitespace\n",
        "    data = data.strip()\n",
        "    \n",
        "    # tokenization with nltk\n",
        "    data = word_tokenize(data)\n",
        "    \n",
        "    # stemming with nltk\n",
        "    porter = PorterStemmer()\n",
        "    stem_data = [porter.stem(word) for word in data]\n",
        "        \n",
        "    return stem_data"
      ]
    },
    {
      "cell_type": "markdown",
      "metadata": {
        "id": "DILHagN5_0nM"
      },
      "source": [
        "## 3. Text Representation\n",
        "\n",
        "Vectorizing text using Term Frequency technique (Term Frequency(TF) — Inverse Dense Frequency(IDF))\n",
        "* Tekenize with our preprocess_and_tokenize\n",
        "* Find it’s TF = (Number of repetitions of word in a document) / (# of words in a document)\n",
        "* IDF = log(# of documents / # of documents containing the word)"
      ]
    },
    {
      "cell_type": "code",
      "source": [
        "  import nltk\n",
        "  nltk.download('punkt')"
      ],
      "metadata": {
        "colab": {
          "base_uri": "https://localhost:8080/"
        },
        "id": "cRyrsu2wAWGO",
        "outputId": "b623d02e-890a-4ffc-d44f-e02c09f46c36"
      },
      "execution_count": 8,
      "outputs": [
        {
          "output_type": "stream",
          "name": "stderr",
          "text": [
            "[nltk_data] Downloading package punkt to /root/nltk_data...\n",
            "[nltk_data]   Unzipping tokenizers/punkt.zip.\n"
          ]
        },
        {
          "output_type": "execute_result",
          "data": {
            "text/plain": [
              "True"
            ]
          },
          "metadata": {},
          "execution_count": 8
        }
      ]
    },
    {
      "cell_type": "code",
      "execution_count": 9,
      "metadata": {
        "id": "h-ePXIqt_0nM"
      },
      "outputs": [],
      "source": [
        "# TFIDF, unigrams and bigrams\n",
        "vect = TfidfVectorizer(tokenizer=preprocess_and_tokenize, sublinear_tf=True, norm='l2', ngram_range=(1, 2))\n",
        "\n",
        "# fit on our complete corpus\n",
        "vect.fit_transform(data.Text)\n",
        "\n",
        "# transform testing and training datasets to vectors\n",
        "X_train_vect = vect.transform(X_train)\n",
        "X_test_vect = vect.transform(X_test)"
      ]
    },
    {
      "cell_type": "markdown",
      "metadata": {
        "id": "TMnjOYzH_0nM"
      },
      "source": [
        "## 4. Classifiers\n",
        "\n",
        "###  Naive Bayes"
      ]
    },
    {
      "cell_type": "code",
      "execution_count": 11,
      "metadata": {
        "colab": {
          "base_uri": "https://localhost:8080/",
          "height": 723
        },
        "id": "w9J7dzli_0nN",
        "outputId": "51c8284a-e5ad-47e7-cda7-a5c20eb07418"
      },
      "outputs": [
        {
          "output_type": "stream",
          "name": "stdout",
          "text": [
            "Accuracy: 67.02%\n",
            "\n",
            "F1 Score: 67.02\n",
            "\n",
            "COnfusion Matrix:\n",
            " [[469  32  44  28 120]\n",
            " [ 73 420  55  16 115]\n",
            " [ 56  18 475  68  90]\n",
            " [ 61  20  76 385  96]\n",
            " [ 68  20  48  15 525]]\n"
          ]
        },
        {
          "output_type": "display_data",
          "data": {
            "text/plain": [
              "<Figure size 900x540 with 2 Axes>"
            ],
            "image/png": "[encoded data removed]"
          },
          "metadata": {
            "needs_background": "light"
          }
        }
      ],
      "source": [
        "nb = MultinomialNB()\n",
        "\n",
        "nb.fit(X_train_vect, y_train)\n",
        "\n",
        "ynb_pred = nb.predict(X_test_vect)\n",
        "\n",
        "from sklearn.metrics import accuracy_score, f1_score, confusion_matrix\n",
        "\n",
        "print(\"Accuracy: {:.2f}%\".format(accuracy_score(y_test, ynb_pred) * 100))\n",
        "print(\"\\nF1 Score: {:.2f}\".format(f1_score(y_test, ynb_pred, average='micro') * 100))\n",
        "print(\"\\nCOnfusion Matrix:\\n\", confusion_matrix(y_test, ynb_pred))\n",
        "\n",
        "# Plot normalized confusion matrix\n",
        "plot_confusion_matrix(y_test, ynb_pred, classes=class_names, normalize=True, title='Normalized confusion matrix')\n",
        "plt.show()"
      ]
    },
    {
      "cell_type": "markdown",
      "metadata": {
        "id": "-4pgvKNF_0nN"
      },
      "source": [
        "###  Random Forrest"
      ]
    },
    {
      "cell_type": "code",
      "execution_count": 12,
      "metadata": {
        "colab": {
          "base_uri": "https://localhost:8080/",
          "height": 723
        },
        "id": "13ihUXIJ_0nN",
        "outputId": "bc3d0c08-286e-4dc7-e234-f35f2529435b"
      },
      "outputs": [
        {
          "output_type": "stream",
          "name": "stdout",
          "text": [
            "Accuracy: 63.31%\n",
            "\n",
            "F1 Score: 63.31\n",
            "\n",
            "COnfusion Matrix:\n",
            " [[408  77  54  80  74]\n",
            " [ 77 449  43  72  38]\n",
            " [ 71  59 402 110  65]\n",
            " [ 37  20  42 511  28]\n",
            " [100  73  66  59 378]]\n"
          ]
        },
        {
          "output_type": "display_data",
          "data": {
            "text/plain": [
              "<Figure size 900x540 with 2 Axes>"
            ],
            "image/png": "[encoded data removed]"
          },
          "metadata": {
            "needs_background": "light"
          }
        }
      ],
      "source": [
        "rf = RandomForestClassifier(n_estimators=50)\n",
        "rf.fit(X_train_vect, y_train)\n",
        "\n",
        "yrf_pred = rf.predict(X_test_vect)\n",
        "\n",
        "print(\"Accuracy: {:.2f}%\".format(accuracy_score(y_test, yrf_pred) * 100))\n",
        "print(\"\\nF1 Score: {:.2f}\".format(f1_score(y_test, yrf_pred, average='micro') * 100))\n",
        "print(\"\\nCOnfusion Matrix:\\n\", confusion_matrix(y_test, yrf_pred))\n",
        "\n",
        "plot_confusion_matrix(y_test, yrf_pred, classes=class_names, normalize=True, title='Normalized confusion matrix')\n",
        "plt.show()"
      ]
    },
    {
      "cell_type": "markdown",
      "metadata": {
        "id": "M2aORGG8_0nN"
      },
      "source": [
        "###  Logistic Regression"
      ]
    },
    {
      "cell_type": "code",
      "execution_count": 13,
      "metadata": {
        "colab": {
          "base_uri": "https://localhost:8080/",
          "height": 723
        },
        "id": "ju8pxsEt_0nN",
        "outputId": "89f8f526-1451-4795-f6c5-1cb26e8526c6"
      },
      "outputs": [
        {
          "output_type": "stream",
          "name": "stdout",
          "text": [
            "Accuracy: 69.35%\n",
            "\n",
            "F1 Score: 69.35\n",
            "\n",
            "COnfusion Matrix:\n",
            " [[456  67  44  68  58]\n",
            " [ 65 483  42  50  39]\n",
            " [ 56  34 476 101  40]\n",
            " [ 41  23  42 498  34]\n",
            " [ 82  60  51  43 440]]\n"
          ]
        },
        {
          "output_type": "display_data",
          "data": {
            "text/plain": [
              "<Figure size 900x540 with 2 Axes>"
            ],
            "image/png": "[encoded data removed]"
          },
          "metadata": {
            "needs_background": "light"
          }
        }
      ],
      "source": [
        "log = LogisticRegression(solver='lbfgs', multi_class='auto', max_iter=200)\n",
        "log.fit(X_train_vect, y_train)\n",
        "\n",
        "ylog_pred = log.predict(X_test_vect)\n",
        "\n",
        "print(\"Accuracy: {:.2f}%\".format(accuracy_score(y_test, ylog_pred) * 100))\n",
        "print(\"\\nF1 Score: {:.2f}\".format(f1_score(y_test, ylog_pred, average='micro') * 100))\n",
        "print(\"\\nCOnfusion Matrix:\\n\", confusion_matrix(y_test, ylog_pred))\n",
        "\n",
        "plot_confusion_matrix(y_test, ylog_pred, classes=class_names, normalize=True, title='Normalized confusion matrix')\n",
        "plt.show()"
      ]
    },
    {
      "cell_type": "markdown",
      "metadata": {
        "id": "xhDjyxmj_0nO"
      },
      "source": [
        "###  Linear Support Vector"
      ]
    },
    {
      "cell_type": "code",
      "execution_count": 14,
      "metadata": {
        "colab": {
          "base_uri": "https://localhost:8080/",
          "height": 723
        },
        "id": "NG7_nZYw_0nO",
        "outputId": "8fcfffc7-8497-4ebe-8b9a-66ac98987f9c"
      },
      "outputs": [
        {
          "output_type": "stream",
          "name": "stdout",
          "text": [
            "Accuracy: 72.71%\n",
            "\n",
            "F1 Score: 72.71\n",
            "\n",
            "COnfusion Matrix:\n",
            " [[490  49  41  58  55]\n",
            " [ 53 508  34  40  44]\n",
            " [ 50  33 498  91  35]\n",
            " [ 34  23  38 505  38]\n",
            " [ 72  43  53  42 466]]\n"
          ]
        },
        {
          "output_type": "display_data",
          "data": {
            "text/plain": [
              "<Figure size 900x540 with 2 Axes>"
            ],
            "image/png": "[encoded data removed]"
          },
          "metadata": {
            "needs_background": "light"
          }
        }
      ],
      "source": [
        "svc = LinearSVC(tol=1e-05)\n",
        "svc.fit(X_train_vect, y_train)\n",
        "\n",
        "ysvm_pred = svc.predict(X_test_vect)\n",
        "\n",
        "print(\"Accuracy: {:.2f}%\".format(accuracy_score(y_test, ysvm_pred) * 100))\n",
        "print(\"\\nF1 Score: {:.2f}\".format(f1_score(y_test, ysvm_pred, average='micro') * 100))\n",
        "print(\"\\nCOnfusion Matrix:\\n\", confusion_matrix(y_test, ysvm_pred))\n",
        "\n",
        "plot_confusion_matrix(y_test, ysvm_pred, classes=class_names, normalize=True, title='Normalized confusion matrix')\n",
        "plt.show()"
      ]
    },
    {
      "cell_type": "markdown",
      "metadata": {
        "id": "5dLJXVMI_0nO"
      },
      "source": [
        "## 4. Saving the tf-idf + SVM Model \n"
      ]
    },
    {
      "cell_type": "code",
      "execution_count": 15,
      "metadata": {
        "id": "E1fDs36O_0nO"
      },
      "outputs": [],
      "source": [
        "#Create pipeline with our tf-idf vectorizer and LinearSVC model\n",
        "svm_model = Pipeline([\n",
        "    ('tfidf', vect),\n",
        "    ('clf', svc),\n",
        "])"
      ]
    },
    {
      "cell_type": "code",
      "source": [
        "import os\n",
        "\n",
        "if not os.path.exists('models'):\n",
        "    os.makedirs('models')\n",
        "\n",
        "filename = 'models/tfidf_svm.sav'\n",
        "pickle.dump(svm_model, open(filename, 'wb'))"
      ],
      "metadata": {
        "id": "FukKlwDrBHsQ"
      },
      "execution_count": 17,
      "outputs": []
    },
    {
      "cell_type": "code",
      "execution_count": 18,
      "metadata": {
        "id": "M1qIfQMJ_0nO"
      },
      "outputs": [],
      "source": [
        "# save the model\n",
        "filename = 'models/tfidf_svm.sav'\n",
        "pickle.dump(svm_model, open(filename, 'wb'))"
      ]
    },
    {
      "cell_type": "code",
      "execution_count": 20,
      "metadata": {
        "colab": {
          "base_uri": "https://localhost:8080/"
        },
        "id": "9p3Gx-7Y_0nO",
        "outputId": "a526cb99-d893-4844-a5a4-c58ff616ef43"
      },
      "outputs": [
        {
          "output_type": "execute_result",
          "data": {
            "text/plain": [
              "array(['anger'], dtype=object)"
            ]
          },
          "metadata": {},
          "execution_count": 20
        }
      ],
      "source": [
        "model = pickle.load(open(filename, 'rb'))\n",
        "\n",
        "message = 'delivery was hour late and my pizza is cold!' \n",
        "model.predict([message])"
      ]
    },
    {
      "cell_type": "code",
      "execution_count": null,
      "metadata": {
        "id": "fI7cumnf_0nP"
      },
      "outputs": [],
      "source": []
    }
  ],
  "metadata": {
    "kernelspec": {
      "display_name": "Python 3 (ipykernel)",
      "language": "python",
      "name": "python3"
    },
    "language_info": {
      "codemirror_mode": {
        "name": "ipython",
        "version": 3
      },
      "file_extension": ".py",
      "mimetype": "text/x-python",
      "name": "python",
      "nbconvert_exporter": "python",
      "pygments_lexer": "ipython3",
      "version": "3.9.13"
    },
    "colab": {
      "provenance": [],
      "include_colab_link": true
    }
  },
  "nbformat": 4,
  "nbformat_minor": 0
}